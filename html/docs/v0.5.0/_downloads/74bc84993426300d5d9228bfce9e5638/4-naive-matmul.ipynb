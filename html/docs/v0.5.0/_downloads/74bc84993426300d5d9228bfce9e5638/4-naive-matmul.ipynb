{
  "cells": [
    {
      "cell_type": "markdown",
      "metadata": {},
      "source": [
        "\n# Naive Matrix Multiplication\n"
      ]
    },
    {
      "cell_type": "markdown",
      "metadata": {},
      "source": [
        "In this example, we will show you how to write a program that performs matrix multiplication on GPU that supports\narbitrary input size.\n\n"
      ]
    },
    {
      "cell_type": "code",
      "execution_count": null,
      "metadata": {
        "collapsed": false
      },
      "outputs": [],
      "source": [
        "import torch\nimport hidet\nfrom hidet.lang import attrs\nfrom hidet.lang.types import f32, i32, tensor_pointer\nfrom hidet.lang.cuda import threadIdx, blockIdx\n\nhidet.option.cache_dir('./outs/cache')\n\nwith hidet.script_module() as script_module:\n\n    @hidet.script\n    def matmul_kernel(a_ptr: ~f32, b_ptr: ~f32, c_ptr: ~f32, m_size: i32, n_size: i32, k_size: i32):\n        attrs.func_kind = 'cuda_kernel'\n        attrs.cuda.block_dim = 16, 16\n        attrs.cuda.grid_dim = (m_size + 15) // 16, (n_size + 15) // 16\n\n        # define three tensor pointers that hold the shape and dtype information\n        a = tensor_pointer(dtype=f32, shape=[m_size, k_size], init=a_ptr)\n        b = tensor_pointer(dtype=f32, shape=[k_size, n_size], init=b_ptr)\n        c = tensor_pointer(dtype=f32, shape=[m_size, n_size], init=c_ptr)\n\n        i = blockIdx.x * 16 + threadIdx.x\n        j = blockIdx.y * 16 + threadIdx.y\n\n        if i < m_size and j < n_size:\n            c[i, j] = 0.0\n            for k in range(k_size):\n                c[i, j] += a[i, k] * b[k, j]\n\n\nmodule = script_module.build()"
      ]
    },
    {
      "cell_type": "markdown",
      "metadata": {},
      "source": [
        "Hidet compiled module can be called directly with pytorch tensors.\n\n"
      ]
    },
    {
      "cell_type": "code",
      "execution_count": null,
      "metadata": {
        "collapsed": false
      },
      "outputs": [],
      "source": [
        "def matmul(a: torch.Tensor, b: torch.Tensor):\n    m_size, n_size, k_size = a.shape[0], b.shape[1], a.shape[1]\n    c = torch.empty([m_size, n_size], device='cuda')\n    module(a, b, c, m_size, n_size, k_size)\n    return c"
      ]
    },
    {
      "cell_type": "markdown",
      "metadata": {},
      "source": [
        "Run the compiled kernels with different input sizes and check the correctness of the result.\n\n"
      ]
    },
    {
      "cell_type": "code",
      "execution_count": null,
      "metadata": {
        "collapsed": false
      },
      "outputs": [],
      "source": [
        "for m_size, n_size, k_size in [(234, 345, 567), (123, 456, 789)]:\n    a = torch.randn(m_size, k_size, device='cuda')\n    b = torch.randn(k_size, n_size, device='cuda')\n\n    c1 = matmul(a, b)\n    c2 = torch.matmul(a, b)\n\n    # check the correctness of the result\n    torch.testing.assert_close(c1, c2, atol=1e-4, rtol=1e-4)"
      ]
    },
    {
      "cell_type": "code",
      "execution_count": null,
      "metadata": {
        "collapsed": false
      },
      "outputs": [],
      "source": [
        "print(module.source())"
      ]
    }
  ],
  "metadata": {
    "kernelspec": {
      "display_name": "Python 3",
      "language": "python",
      "name": "python3"
    },
    "language_info": {
      "codemirror_mode": {
        "name": "ipython",
        "version": 3
      },
      "file_extension": ".py",
      "mimetype": "text/x-python",
      "name": "python",
      "nbconvert_exporter": "python",
      "pygments_lexer": "ipython3",
      "version": "3.10.16"
    }
  },
  "nbformat": 4,
  "nbformat_minor": 0
}