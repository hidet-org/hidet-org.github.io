{
  "cells": [
    {
      "cell_type": "markdown",
      "metadata": {},
      "source": [
        "\n# Hello World!\n\nIn this example, we will show you how to use hidet to write a simple \"Hello World\" program.\n"
      ]
    },
    {
      "cell_type": "markdown",
      "metadata": {},
      "source": [
        "Hidet is a deep learning compiler implemented in python. Let's import it first.\n\n"
      ]
    },
    {
      "cell_type": "code",
      "execution_count": null,
      "metadata": {
        "collapsed": false
      },
      "outputs": [],
      "source": [
        "import hidet"
      ]
    },
    {
      "cell_type": "markdown",
      "metadata": {},
      "source": [
        "Hidet caches all its generated source code and binary in its cache directory. We can set the cache directory\nto a local directory ``./outs/cache`` so that you can check the generated code and binary.\n\n"
      ]
    },
    {
      "cell_type": "code",
      "execution_count": null,
      "metadata": {
        "collapsed": false
      },
      "outputs": [],
      "source": [
        "hidet.option.cache_dir('./outs/cache')"
      ]
    },
    {
      "cell_type": "markdown",
      "metadata": {},
      "source": [
        "The ``hidet.lang`` submodule implements the Hidet Script domain specific language.\nIn this example, we will use ``attrs`` variable and ``printf`` function from ``hidet.lang``.\n\n"
      ]
    },
    {
      "cell_type": "code",
      "execution_count": null,
      "metadata": {
        "collapsed": false
      },
      "outputs": [],
      "source": [
        "from hidet.lang import attrs, printf"
      ]
    },
    {
      "cell_type": "markdown",
      "metadata": {},
      "source": [
        "A **script module** is a compilation unit that contains a list of functions defined in it. Inside a script module,\nwe can use ``hidet.script`` to define a hidet script function. The following example defines a function named\n``launch`` that prints a message to the standard output.\n\n"
      ]
    },
    {
      "cell_type": "code",
      "execution_count": null,
      "metadata": {
        "collapsed": false
      },
      "outputs": [],
      "source": [
        "with hidet.script_module() as script_module:\n\n    # we use `hidet.script` to decorate a python function to define a hidet script function.\n    @hidet.script\n    def launch():\n        # we use `hidet.lang.attrs` to set the attributes of the function.\n        # the following line specify this hidet script function is a public function.\n        attrs.func_kind = 'public'\n\n        # print a message to the standard output.\n        printf(\"Hello World!\\n\")"
      ]
    },
    {
      "cell_type": "markdown",
      "metadata": {},
      "source": [
        "With the script module defined, we can build the script module with ``build()`` method. The returned ``module`` is\nan instance of ``hidet.runtime.CompiledModule``, which contains the compiled binary.\n\n"
      ]
    },
    {
      "cell_type": "code",
      "execution_count": null,
      "metadata": {
        "collapsed": false
      },
      "outputs": [],
      "source": [
        "module = script_module.build()"
      ]
    },
    {
      "cell_type": "markdown",
      "metadata": {},
      "source": [
        "We can directly call the compiled module, in this case the 'launch' function would be invoked.\n\n<div class=\"alert alert-info\"><h4>Note</h4><p>:class: margin\n\n   The printed message has not been captured by our documentation generation tool (i.e., sphinx).\n   If you run the script by yourself, you will see the message printed out in your console.</p></div>\n\n"
      ]
    },
    {
      "cell_type": "code",
      "execution_count": null,
      "metadata": {
        "collapsed": false
      },
      "outputs": [],
      "source": [
        "module()"
      ]
    },
    {
      "cell_type": "markdown",
      "metadata": {},
      "source": [
        "We can also explicitly specify the function to be invoked using ``module['func_name'](args)``.\n\n"
      ]
    },
    {
      "cell_type": "code",
      "execution_count": null,
      "metadata": {
        "collapsed": false
      },
      "outputs": [],
      "source": [
        "module['launch']()"
      ]
    },
    {
      "cell_type": "markdown",
      "metadata": {},
      "source": [
        "you can access the source code of the compiled module using ``module.source()``.\n\n<div class=\"alert alert-info\"><h4>Note</h4><p>:class: margin\n\n   The function in the source code has a prefix ``hidet_``, which is used to avoid name conflict with standard\n   library functions.</p></div>\n\n"
      ]
    },
    {
      "cell_type": "code",
      "execution_count": null,
      "metadata": {
        "collapsed": false
      },
      "outputs": [],
      "source": [
        "print(module.source(color=True))"
      ]
    }
  ],
  "metadata": {
    "kernelspec": {
      "display_name": "Python 3",
      "language": "python",
      "name": "python3"
    },
    "language_info": {
      "codemirror_mode": {
        "name": "ipython",
        "version": 3
      },
      "file_extension": ".py",
      "mimetype": "text/x-python",
      "name": "python",
      "nbconvert_exporter": "python",
      "pygments_lexer": "ipython3",
      "version": "3.10.16"
    }
  },
  "nbformat": 4,
  "nbformat_minor": 0
}