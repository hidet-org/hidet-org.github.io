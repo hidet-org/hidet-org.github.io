{
  "cells": [
    {
      "cell_type": "markdown",
      "metadata": {},
      "source": [
        "\n\n# Add Operator Resolve Rule\n\nThis is a tutorial introduces the `operator resolving mechanism` and how to add a new operator resolve rule. An operator\nresolve rule is used to resolve an operator to other operators. Usually, we would resolve a more generic operator to\nmore specific and efficient operators. The operator resolving rules allow us to reuse existing highly-optimized\noperators to implement a new operator, while organizing the operators in a more modular way.\n\n\n## Operator Resolving\n\nThe core idea of the **operator resolving** is to resolve a generic operator to more specific and high-optimized\noperators. When we define a new operator, we can also attach an operator resolve rule to it. The rule defines how to\nresolve the operator to other operators with the same semantics. After the operator is resolved, the original operator\nwill be replaced by the resolved operators. This process is transparent to the user and is done automatically by a pass\nwhen we optimize a flow graph.\n\nThere are typical two scenarios that we need to resolve an operator to other operators:\n\n- **Resolve a generic operator to specialized variants**: We can provide a generic operator and lots of its specialized\n  variants. When optimizing the model, we can resolve the generic operator to the most suitable specialized operator.\n  For example, in Hidet, we provided a generic :py:func:`~hidet.ops.matmul` operator with the same semantics as\n  the numpy equivalent :py:data:`numpy.matmul`. This operator is a generic operator and is scheduled automatically by\n  our auto-scheduler, thus it is not very efficient. But we also provided a lot of specialized variants of the operators\n  such as highly-optimized :py:func:`~hidet.ops.batch_matmul` that only accepts $A=[B, M, K]$ and\n  $B=[B, K, N]$. During the operator resolving, we first reshape and broadcast the input tensors to align the\n  input shapes with the specialized operator, then use the specialized operator to compute the result, and finally\n  reshape the output tensor to get the correct output shape.\n\n.. tip::\n  :class: margin\n\n  During the operator resolving, we might introduce some extra operators to adjust the input tensors (e.g.,\n  :func:`~hidet.ops.reshape`, :func:`~hidet.ops.broadcast`, :func:`~hidet.ops.transpose`, etc.).\n  These extra operators are usually fused into the resolved operators or surrounding operators of the original operator\n  in the later optimization pass. Thus, the extra overhead is usually negligible.\n\n.. figure:: /_static/img/resolve-example-matmul.svg\n    :align: center\n    :scale: 70%\n\n    The resolve rule for `Matmul` operator.\n\n- **Reuse a new operator to existing operators**: When we add a new operator and the new operator can be implemented by\n  existing operators, we can use a resolve rule to resolve the new operator to the existing highly-optimized operators\n  to reduce the development effort.\n\n.. figure:: /_static/img/resolve-example-conv2d.svg\n    :align: center\n    :scale: 70%\n\n    This rule resolves the generic :func:`~hidet.ops.conv2d` operator to matrix multiplication using the img2col\n    algorithm.\n\nThe operator resolving pass would repeat the resolving process until no more operators can be resolved. Thus, in the\nconv2d example, we will first resolve :func:`~hidet.ops.conv2d` to :func:`~hidet.ops.matmul`, and then\nto :func:`~hidet.ops.batch_matmul`.\n\n## Add Operator Resolve Rule\n\nTo add a resolve rule to an operator, we need to\n\n#. define a subclass of :class:`~hidet.graph.transforms.resolve_variant.ResolveRule` and then\n#. register the rule by decorating it with :func:`~hidet.graph.transforms.resolve_variant.register_resolve_rule`.\n\nIn the following example, we resolve the :func:`~hidet.ops.pow` operator to normal multiplications if the exponent\nis a constant integer 3.\n\nBefore we start, let's have a look at the original behavior when there is no such resolve rule.\n"
      ]
    },
    {
      "cell_type": "code",
      "execution_count": null,
      "metadata": {
        "collapsed": false
      },
      "outputs": [],
      "source": [
        "import hidet\n\na = hidet.symbol(shape=[2, 3], device='cuda')\nb = hidet.ops.pow(a, hidet.asarray(3, device='cuda'))\ngraph = hidet.trace_from(b, inputs=[a])\nprint('Original graph:')\nprint(graph)\n\nprint('Optimized graph without resolving Pow:')\ngraph_opt = hidet.graph.optimize(graph)\nprint(graph_opt)"
      ]
    },
    {
      "cell_type": "markdown",
      "metadata": {},
      "source": [
        "The original graph contains a :func:`~hidet.ops.pow` operator, and the optimized graph is the same as the\noriginal graph. Now let's add the resolve rule and see what happens.\n\n"
      ]
    },
    {
      "cell_type": "code",
      "execution_count": null,
      "metadata": {
        "collapsed": false
      },
      "outputs": [],
      "source": [
        "from typing import Optional, List\nfrom hidet import Tensor\nfrom hidet.graph.ops.arithmetic import PowOp\nfrom hidet.graph.transforms import register_resolve_rule, ResolveRule\n\n\n@register_resolve_rule(PowOp)\nclass PowResolveRule(ResolveRule):\n    def resolve(self, op: PowOp) -> Optional[List[Tensor]]:\n        a: Tensor = op.inputs[0]  # get the base tensor\n        b: Tensor = op.inputs[1]  # get the exponent tensor\n        if not b.is_symbolic() and len(b.shape) == 0 and int(b) == 3:\n            # if the exponent is a constant integer 3, resolve the operator to a * a * a\n            return [a * a * a]\n        # otherwise, return None to indicate that the operator cannot be resolved\n        # and the original operator will be kept\n        return None\n\n\n# optimize the original graph again\n# the Pow operator will be resolved to a * a * a\n# after that, the two multiplications will be fused into one operator\ngraph_opt_new = hidet.graph.optimize(graph)\nprint('Optimized graph after resolving Pow:')\nprint(graph_opt_new)"
      ]
    },
    {
      "cell_type": "markdown",
      "metadata": {},
      "source": [
        ".. seealso::\n\n  :func:`~hidet.graph.transforms.resolve_variant.register_resolve_rule`,\n  :class:`~hidet.graph.transforms.resolve_variant.ResolveRule` for the details of the resolve rule.\n\n## Summary\nIn this tutorial, we learned how to resolve an operator to other operators. We also learned how to add a resolve\nrule to an operator. The resolve rule is a powerful tool to reuse existing operators to implement new operators.\nWe can also use it to resolve a generic operator to more specialized variants.\n\n\n"
      ]
    }
  ],
  "metadata": {
    "kernelspec": {
      "display_name": "Python 3",
      "language": "python",
      "name": "python3"
    },
    "language_info": {
      "codemirror_mode": {
        "name": "ipython",
        "version": 3
      },
      "file_extension": ".py",
      "mimetype": "text/x-python",
      "name": "python",
      "nbconvert_exporter": "python",
      "pygments_lexer": "ipython3",
      "version": "3.10.16"
    }
  },
  "nbformat": 4,
  "nbformat_minor": 0
}