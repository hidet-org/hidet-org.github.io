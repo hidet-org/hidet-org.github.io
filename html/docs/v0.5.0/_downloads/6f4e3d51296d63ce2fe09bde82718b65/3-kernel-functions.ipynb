{
  "cells": [
    {
      "cell_type": "markdown",
      "metadata": {},
      "source": [
        "\n# Kernel Functions\n"
      ]
    },
    {
      "cell_type": "markdown",
      "metadata": {},
      "source": [
        "Besides the ``public`` function, there are other function kinds in hidet script. Currently, we support the following\nfunction kinds:\n\n- ``public``: a public function. The public functions in a script module will be exposed to the outside and can be\n  invoked by the outside (in our case, we can call them in python).\n- ``cpu_kernel``: a kernel function on cpu.\n- ``cpu_internal``: an internal function on cpu.\n- ``cuda_kernel``: a kernel function on cuda.\n- ``cuda_internal``: an internal function on cuda.\n\n.. tip::\n  :class: margin\n\n  The ``cuda_kernel`` and ``cuda_internal`` correspond to the ``__global__`` and ``__device__`` functions in CUDA.\n\nUsually, we use the ``cpu_kernel`` and ``cuda_kernel`` to define the kernel functions. The ``cpu_internal`` and\n``cuda_internal`` are used to define the internal functions that are only used by the kernel functions.\n\nWhen there is only one kernel function in a script module and there is no function named ``launch``, a default\n``launch`` function will be generated to launch the kernel function.\n\n\n"
      ]
    },
    {
      "cell_type": "markdown",
      "metadata": {},
      "source": [
        "## CPU kernel function\n\n"
      ]
    },
    {
      "cell_type": "code",
      "execution_count": null,
      "metadata": {
        "collapsed": false
      },
      "outputs": [],
      "source": [
        "import hidet\nfrom hidet.lang import attrs\nfrom hidet.lang.types import f32\n\nhidet.option.cache_dir('./outs/cache')\n\nwith hidet.script_module() as script_module:\n\n    @hidet.script\n    def matmul(a: f32[16, 16], b: f32[16, 16], c: f32[16, 16]):\n        # specify the function kind as 'cpu_kernel'\n        attrs.func_kind = 'cpu_kernel'\n\n        for i in range(16):\n            for j in range(16):\n                c[i, j] = 0.0\n                for k in range(16):\n                    c[i, j] += a[i, k] * b[k, j]\n\n\nmodule = script_module.build()\n\na = hidet.randn([16, 16])\nb = hidet.randn([16, 16])\nc = hidet.empty([16, 16])\n\nmodule(a, b, c)"
      ]
    },
    {
      "cell_type": "markdown",
      "metadata": {},
      "source": [
        "We can check the generated source code to see that the ``launch`` function is generated automatically.\n\n"
      ]
    },
    {
      "cell_type": "code",
      "execution_count": null,
      "metadata": {
        "collapsed": false
      },
      "outputs": [],
      "source": [
        "print(module.source())"
      ]
    },
    {
      "cell_type": "markdown",
      "metadata": {},
      "source": [
        "## CUDA kernel function\nWe can also define a kernel function on CUDA. The following example defines a kernel function on cuda.\n\nWe can access cuda primitive variables and functions in the ``hidet.lang.cuda`` module.\n\n"
      ]
    },
    {
      "cell_type": "code",
      "execution_count": null,
      "metadata": {
        "collapsed": false
      },
      "outputs": [],
      "source": [
        "from hidet.lang.cuda import blockIdx, threadIdx, blockDim\n\n# workload size\nm_size = 1024\nn_size = 1024\nk_size = 1024\n\nwith hidet.script_module() as script_module:\n\n    @hidet.script\n    def matmul(a: f32[m_size, k_size], b: f32[k_size, n_size], c: f32[m_size, n_size]):\n        # specify the function kind as 'cuda_kernel'\n        attrs.func_kind = 'cuda_kernel'\n\n        # specify the grid dimension and block dimension\n        attrs.cuda.grid_dim = (m_size + 15) // 16, (n_size + 15) // 16\n        attrs.cuda.block_dim = 16, 16\n\n        # the coordinate of the c matrix that this thread is responsible for\n        i = blockIdx.x * blockDim.x + threadIdx.x\n        j = blockIdx.y * blockDim.y + threadIdx.y\n\n        if i < m_size and j < n_size:\n            c[i, j] = 0.0\n            for k in range(k_size):\n                c[i, j] += a[i, k] * b[k, j]\n\n\nmodule = script_module.build()\n\na = hidet.randn([m_size, k_size], device='cuda')\nb = hidet.randn([k_size, n_size], device='cuda')\nc = hidet.empty([m_size, n_size], device='cuda')\n\nmodule(a, b, c)\n\n# compare the result with torch.matmul\nhidet.utils.assert_close(c, a.torch() @ b.torch(), atol=1e-3, rtol=1e-3)"
      ]
    },
    {
      "cell_type": "markdown",
      "metadata": {},
      "source": [
        "We can check the generated source code:\n\n.. tip::\n   :class: margin\n\n   You can find that there is no boundary checking in the kernel function. This is because hidet infers the value\n   range for each index variable and finds that the if condition is always true, so it simplifies the if-statement.\n\n"
      ]
    },
    {
      "cell_type": "code",
      "execution_count": null,
      "metadata": {
        "collapsed": false
      },
      "outputs": [],
      "source": [
        "print(module.source())"
      ]
    }
  ],
  "metadata": {
    "kernelspec": {
      "display_name": "Python 3",
      "language": "python",
      "name": "python3"
    },
    "language_info": {
      "codemirror_mode": {
        "name": "ipython",
        "version": 3
      },
      "file_extension": ".py",
      "mimetype": "text/x-python",
      "name": "python",
      "nbconvert_exporter": "python",
      "pygments_lexer": "ipython3",
      "version": "3.10.16"
    }
  },
  "nbformat": 4,
  "nbformat_minor": 0
}