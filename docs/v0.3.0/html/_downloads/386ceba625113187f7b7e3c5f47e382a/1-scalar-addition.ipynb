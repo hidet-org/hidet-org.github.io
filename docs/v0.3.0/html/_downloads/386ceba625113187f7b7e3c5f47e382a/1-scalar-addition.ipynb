{
  "cells": [
    {
      "cell_type": "markdown",
      "metadata": {},
      "source": [
        "\n# Scalar Addition\n"
      ]
    },
    {
      "cell_type": "markdown",
      "metadata": {},
      "source": [
        "In this example, we will show you how to write a program that adds two float32 numbers.\n\n"
      ]
    },
    {
      "cell_type": "markdown",
      "metadata": {},
      "source": [
        "We first import ``hidet`` and ``hidet.lang`` module, as well as set the cache directory.\n\n"
      ]
    },
    {
      "cell_type": "code",
      "execution_count": null,
      "metadata": {
        "collapsed": false
      },
      "outputs": [],
      "source": [
        "import hidet\nfrom hidet.lang import attrs\n\nhidet.option.cache_dir('./outs/cache')"
      ]
    },
    {
      "cell_type": "markdown",
      "metadata": {},
      "source": [
        "There are a bunch of data types we can use in Hidet Script, and we can access them in ``hidet.lang.types`` module.\nEach scalar data type has both a full name and a short name. For example, the short name of ``float32`` is\n``f32``. They are equivalent and can be used interchangeably.\n\n"
      ]
    },
    {
      "cell_type": "code",
      "execution_count": null,
      "metadata": {
        "collapsed": false
      },
      "outputs": [],
      "source": [
        "from hidet.lang.types import f32"
      ]
    },
    {
      "cell_type": "markdown",
      "metadata": {},
      "source": [
        "In the script function, we defined two parameters ``a`` and ``b`` with data type ``f32``. The return value of the\nfunction is also ``f32``. In hidet script, it is **required** to annotate the data type of each parameter. If the\nreturn type is not annotated, it will be treated as ``void`` data type.\n\n"
      ]
    },
    {
      "cell_type": "code",
      "execution_count": null,
      "metadata": {
        "collapsed": false
      },
      "outputs": [],
      "source": [
        "with hidet.script_module() as script_module:\n\n    @hidet.script\n    # In the following example, the datatype of a and b is 32-bit floating point number (f32),\n    # and the function returns a f32 number.\n    def launch(a: f32, b: f32) -> f32:\n        attrs.func_kind = 'public'\n\n        return a + b\n\n\nmodule = script_module.build()"
      ]
    },
    {
      "cell_type": "markdown",
      "metadata": {},
      "source": [
        "We can invoke the compiled module with two float32 numbers as arguments, and it will return the sum of the two\nnumbers.\n\n"
      ]
    },
    {
      "cell_type": "code",
      "execution_count": null,
      "metadata": {
        "collapsed": false
      },
      "outputs": [],
      "source": [
        "print(module(3.0, 4.0))"
      ]
    }
  ],
  "metadata": {
    "kernelspec": {
      "display_name": "Python 3",
      "language": "python",
      "name": "python3"
    },
    "language_info": {
      "codemirror_mode": {
        "name": "ipython",
        "version": 3
      },
      "file_extension": ".py",
      "mimetype": "text/x-python",
      "name": "python",
      "nbconvert_exporter": "python",
      "pygments_lexer": "ipython3",
      "version": "3.8.17"
    }
  },
  "nbformat": 4,
  "nbformat_minor": 0
}