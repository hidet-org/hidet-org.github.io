{
  "cells": [
    {
      "cell_type": "markdown",
      "metadata": {},
      "source": [
        "\n# Vector Addition\n"
      ]
    },
    {
      "cell_type": "markdown",
      "metadata": {},
      "source": [
        "In this example, we will show you how to write a program that adds two float32 vectors in hidet script.\n\n"
      ]
    },
    {
      "cell_type": "code",
      "execution_count": null,
      "metadata": {
        "collapsed": false
      },
      "outputs": [],
      "source": [
        "import hidet\nfrom hidet.lang import attrs\nfrom hidet.lang.types import f32\n\nhidet.option.cache_dir('./outs/cache')"
      ]
    },
    {
      "cell_type": "markdown",
      "metadata": {},
      "source": [
        "In the script function, we annotate the data type of parameter ``a``, ``b``, and ``c`` as ``f32[3]``, which means\na 3-element vector of 32-bit floating point numbers. In general, we can use ``dtype[shape]`` to define a tensor with\ngiven shape and data type. For example, ``f32[3, 4]`` is a 3x4 float32 matrix, and ``int32[3, 4, 5]`` is a 3x4x5 int32\ntensor.\n\nWe can use ``for i in range(extent)`` to iterate over a range, where ``extent`` is the extent of the loop.\n\n"
      ]
    },
    {
      "cell_type": "code",
      "execution_count": null,
      "metadata": {
        "collapsed": false
      },
      "outputs": [],
      "source": [
        "with hidet.script_module() as script_module:\n\n    @hidet.script\n    def launch(a: f32[3], b: f32[3], c: f32[3]):\n        attrs.func_kind = 'public'\n\n        for i in range(10):\n            c[i] = a[i] + b[i]\n\n\nmodule = script_module.build()"
      ]
    },
    {
      "cell_type": "markdown",
      "metadata": {},
      "source": [
        "Create the input and output tensors (on cpu, with f32 data type by default):\n\n"
      ]
    },
    {
      "cell_type": "code",
      "execution_count": null,
      "metadata": {
        "collapsed": false
      },
      "outputs": [],
      "source": [
        "a = hidet.randn([3])\nb = hidet.randn([3])\nc = hidet.empty([3])"
      ]
    },
    {
      "cell_type": "markdown",
      "metadata": {},
      "source": [
        "Call the compiled module with the input and output tensors\n\n"
      ]
    },
    {
      "cell_type": "code",
      "execution_count": null,
      "metadata": {
        "collapsed": false
      },
      "outputs": [],
      "source": [
        "module(a, b, c)\nprint(a)\nprint(b)\nprint(c)"
      ]
    }
  ],
  "metadata": {
    "kernelspec": {
      "display_name": "Python 3",
      "language": "python",
      "name": "python3"
    },
    "language_info": {
      "codemirror_mode": {
        "name": "ipython",
        "version": 3
      },
      "file_extension": ".py",
      "mimetype": "text/x-python",
      "name": "python",
      "nbconvert_exporter": "python",
      "pygments_lexer": "ipython3",
      "version": "3.8.17"
    }
  },
  "nbformat": 4,
  "nbformat_minor": 0
}